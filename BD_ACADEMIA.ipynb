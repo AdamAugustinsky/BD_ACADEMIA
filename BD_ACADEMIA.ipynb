{
    "metadata": {
        "kernelspec": {
            "name": "SQL",
            "display_name": "SQL",
            "language": "sql"
        },
        "language_info": {
            "name": "sql",
            "version": ""
        }
    },
    "nbformat_minor": 2,
    "nbformat": 4,
    "cells": [
        {
            "cell_type": "code",
            "source": [
                "CREATE DATABASE BD_ACADEMIA"
            ],
            "metadata": {
                "azdata_cell_guid": "2f4f2762-8e16-47bc-8c33-a033c44877cf"
            },
            "outputs": [],
            "execution_count": null
        },
        {
            "cell_type": "code",
            "source": [
                "USE BD_ACADEMIA "
            ],
            "metadata": {
                "azdata_cell_guid": "541da7be-ae70-48f5-94b4-44677b0d186d"
            },
            "outputs": [],
            "execution_count": null
        },
        {
            "cell_type": "code",
            "source": [
                "CREATE TABLE Instrutor(\n",
                "    CPF INTEGER NOT NULL PRIMARY KEY,\n",
                "    Nome VARCHAR(50) NOT NULL,\n",
                "    Data_Nascimento DATE NOT NULL,\n",
                "    Telefone VARCHAR(11) \n",
                ")"
            ],
            "metadata": {
                "azdata_cell_guid": "70431305-edd0-47ef-9016-63e2a6d53ace",
                "tags": []
            },
            "outputs": [],
            "execution_count": null
        },
        {
            "cell_type": "code",
            "source": [
                "SELECT * FROM Instrutor"
            ],
            "metadata": {
                "azdata_cell_guid": "998fc25e-bc20-477f-b427-f51d6b2be97e"
            },
            "outputs": [],
            "execution_count": null
        },
        {
            "cell_type": "code",
            "source": [
                "CREATE TABLE Matricula(\n",
                "    Id_Matricula INTEGER  NOT NULL IDENTITY(1,1) PRIMARY KEY ,\n",
                "    Data_Matricula  DATE NOT NULL,\n",
                "    Data_Vencimento DATE NOT NULL,\n",
                "    CPF_Instrutor INTEGER FOREIGN KEY REFERENCES Instrutor(CPF)\n",
                ")"
            ],
            "metadata": {
                "azdata_cell_guid": "e78d5d83-7fcd-4bf3-ae65-0d47dd2cd87f",
                "tags": []
            },
            "outputs": [],
            "execution_count": null
        },
        {
            "cell_type": "code",
            "source": [
                "SELECT * FROM Matricula"
            ],
            "metadata": {
                "azdata_cell_guid": "957f1d11-da00-4794-999e-9a648d3394fe"
            },
            "outputs": [],
            "execution_count": null
        }
    ]
}