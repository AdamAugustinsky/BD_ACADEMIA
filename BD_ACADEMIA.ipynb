{
    "metadata": {
        "kernelspec": {
            "name": "SQL",
            "display_name": "SQL",
            "language": "sql"
        },
        "language_info": {
            "name": "sql",
            "version": ""
        }
    },
    "nbformat_minor": 2,
    "nbformat": 4,
    "cells": [
        {
            "cell_type": "code",
            "source": [
                "CREATE DATABASE BD_ACADEMIA"
            ],
            "metadata": {
                "azdata_cell_guid": "2f4f2762-8e16-47bc-8c33-a033c44877cf"
            },
            "outputs": [
                {
                    "output_type": "error",
                    "evalue": "Msg 1801, Level 16, State 3, Line 1\nDatabase 'BD_ACADEMIA' already exists. Choose a different database name.",
                    "ename": "",
                    "traceback": []
                },
                {
                    "output_type": "display_data",
                    "data": {
                        "text/html": "Total execution time: 00:00:00.001"
                    },
                    "metadata": {}
                }
            ],
            "execution_count": 1
        },
        {
            "cell_type": "code",
            "source": [
                "USE BD_ACADEMIA "
            ],
            "metadata": {
                "azdata_cell_guid": "541da7be-ae70-48f5-94b4-44677b0d186d"
            },
            "outputs": [
                {
                    "output_type": "display_data",
                    "data": {
                        "text/html": "Commands completed successfully."
                    },
                    "metadata": {}
                },
                {
                    "output_type": "display_data",
                    "data": {
                        "text/html": "Total execution time: 00:00:00"
                    },
                    "metadata": {}
                }
            ],
            "execution_count": 2
        },
        {
            "cell_type": "code",
            "source": [
                "CREATE TABLE Instrutor(\n",
                "    CPF INTEGER NOT NULL PRIMARY KEY,\n",
                "    Nome VARCHAR(50) NOT NULL,\n",
                "    Data_Nascimento DATE NOT NULL,\n",
                "    Telefone VARCHAR(11) \n",
                ")"
            ],
            "metadata": {
                "azdata_cell_guid": "70431305-edd0-47ef-9016-63e2a6d53ace"
            },
            "outputs": [
                {
                    "output_type": "display_data",
                    "data": {
                        "text/html": "Commands completed successfully."
                    },
                    "metadata": {}
                },
                {
                    "output_type": "display_data",
                    "data": {
                        "text/html": "Total execution time: 00:00:00.003"
                    },
                    "metadata": {}
                }
            ],
            "execution_count": 5
        }
    ]
}