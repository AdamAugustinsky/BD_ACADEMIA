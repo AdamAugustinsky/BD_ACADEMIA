{
    "metadata": {
        "kernelspec": {
            "name": "SQL",
            "display_name": "SQL",
            "language": "sql"
        },
        "language_info": {
            "name": "sql",
            "version": ""
        }
    },
    "nbformat_minor": 2,
    "nbformat": 4,
    "cells": [
        {
            "cell_type": "code",
            "source": [
                "DROP DATABASE BD_ACADEMIA"
            ],
            "metadata": {
                "azdata_cell_guid": "701e61d3-738b-491b-86b4-922c108c401a"
            },
            "outputs": [
                {
                    "output_type": "error",
                    "evalue": "Msg 3702, Level 16, State 4, Line 1\nCannot drop database \"BD_ACADEMIA\" because it is currently in use.",
                    "ename": "",
                    "traceback": []
                },
                {
                    "output_type": "display_data",
                    "data": {
                        "text/html": "Total execution time: 00:00:20.002"
                    },
                    "metadata": {}
                }
            ],
            "execution_count": 43
        },
        {
            "cell_type": "code",
            "source": [
                "CREATE DATABASE BD_ACADEMIA"
            ],
            "metadata": {
                "azdata_cell_guid": "2f4f2762-8e16-47bc-8c33-a033c44877cf",
                "tags": []
            },
            "outputs": [
                {
                    "output_type": "error",
                    "evalue": "Msg 1801, Level 16, State 3, Line 1\nDatabase 'BD_ACADEMIA' already exists. Choose a different database name.",
                    "ename": "",
                    "traceback": []
                },
                {
                    "output_type": "display_data",
                    "data": {
                        "text/html": "Total execution time: 00:00:00"
                    },
                    "metadata": {}
                }
            ],
            "execution_count": 1
        },
        {
            "cell_type": "code",
            "source": [
                "USE BD_ACADEMIA "
            ],
            "metadata": {
                "azdata_cell_guid": "541da7be-ae70-48f5-94b4-44677b0d186d",
                "tags": []
            },
            "outputs": [],
            "execution_count": null
        },
        {
            "cell_type": "code",
            "source": [
                "CREATE TABLE Instrutor(\n",
                "    CPF INTEGER NOT NULL PRIMARY KEY,\n",
                "    Nome VARCHAR(50) NOT NULL,\n",
                "    Data_Nascimento DATE NOT NULL,\n",
                "    Telefone VARCHAR(17)\n",
                ")"
            ],
            "metadata": {
                "azdata_cell_guid": "70431305-edd0-47ef-9016-63e2a6d53ace",
                "tags": []
            },
            "outputs": [
                {
                    "output_type": "error",
                    "evalue": "Msg 2714, Level 16, State 6, Line 1\nThere is already an object named 'Instrutor' in the database.",
                    "ename": "",
                    "traceback": []
                },
                {
                    "output_type": "display_data",
                    "data": {
                        "text/html": "Total execution time: 00:00:00.001"
                    },
                    "metadata": {}
                }
            ],
            "execution_count": 20
        },
        {
            "cell_type": "code",
            "source": [
                "SELECT * FROM Instrutor"
            ],
            "metadata": {
                "azdata_cell_guid": "998fc25e-bc20-477f-b427-f51d6b2be97e",
                "tags": []
            },
            "outputs": [
                {
                    "output_type": "display_data",
                    "data": {
                        "text/html": "(0 rows affected)"
                    },
                    "metadata": {}
                },
                {
                    "output_type": "execute_result",
                    "metadata": {},
                    "execution_count": 17,
                    "data": {
                        "application/vnd.dataresource+json": {
                            "schema": {
                                "fields": [
                                    {
                                        "name": "CPF"
                                    },
                                    {
                                        "name": "Nome"
                                    },
                                    {
                                        "name": "Data_Nascimento"
                                    },
                                    {
                                        "name": "Telefone"
                                    }
                                ]
                            },
                            "data": []
                        },
                        "text/html": "<table><tr><th>CPF</th><th>Nome</th><th>Data_Nascimento</th><th>Telefone</th></tr></table>"
                    }
                },
                {
                    "output_type": "display_data",
                    "data": {
                        "text/html": "Total execution time: 00:00:00.002"
                    },
                    "metadata": {}
                }
            ],
            "execution_count": 17
        },
        {
            "cell_type": "code",
            "source": [
                "CREATE TABLE Matricula(\n",
                "    Id INTEGER  NOT NULL IDENTITY(1,1) PRIMARY KEY,\n",
                "    Data_Matricula  DATE NOT NULL,\n",
                "    Data_Vencimento DATE,\n",
                "    CPF_Instrutor INTEGER NOT NULL FOREIGN KEY REFERENCES Instrutor(CPF)\n",
                ")"
            ],
            "metadata": {
                "azdata_cell_guid": "e78d5d83-7fcd-4bf3-ae65-0d47dd2cd87f",
                "tags": []
            },
            "outputs": [
                {
                    "output_type": "error",
                    "evalue": "Msg 2714, Level 16, State 6, Line 1\nThere is already an object named 'Matricula' in the database.",
                    "ename": "",
                    "traceback": []
                },
                {
                    "output_type": "display_data",
                    "data": {
                        "text/html": "Total execution time: 00:00:00.001"
                    },
                    "metadata": {}
                }
            ],
            "execution_count": 50
        },
        {
            "cell_type": "code",
            "source": [
                "SELECT * FROM Matricula"
            ],
            "metadata": {
                "azdata_cell_guid": "957f1d11-da00-4794-999e-9a648d3394fe",
                "tags": []
            },
            "outputs": [
                {
                    "output_type": "display_data",
                    "data": {
                        "text/html": "(0 rows affected)"
                    },
                    "metadata": {}
                },
                {
                    "output_type": "display_data",
                    "data": {
                        "text/html": "Total execution time: 00:00:00.004"
                    },
                    "metadata": {}
                },
                {
                    "output_type": "execute_result",
                    "metadata": {},
                    "execution_count": 55,
                    "data": {
                        "application/vnd.dataresource+json": {
                            "schema": {
                                "fields": [
                                    {
                                        "name": "Id"
                                    },
                                    {
                                        "name": "Data_Matricula"
                                    },
                                    {
                                        "name": "CPF_Instrutor"
                                    },
                                    {
                                        "name": "Data_Vencimento"
                                    }
                                ]
                            },
                            "data": []
                        },
                        "text/html": "<table><tr><th>Id</th><th>Data_Matricula</th><th>CPF_Instrutor</th><th>Data_Vencimento</th></tr></table>"
                    }
                }
            ],
            "execution_count": 55
        },
        {
            "cell_type": "code",
            "source": [
                "CREATE TABLE Aluno(\n",
                "    CPF INTEGER NOT NULL PRIMARY KEY,\n",
                "    Nome VARCHAR(50) NOT NULL,\n",
                "    Data_Nascimento DATE NOT NULL,\n",
                "    Altura FLOAT,\n",
                "    Peso INTEGER,\n",
                "    Telefone VARCHAR(20),\n",
                "    Id_Matricula INTEGER NOT NULL FOREIGN KEY REFERENCES Matricula(Id)\n",
                ")"
            ],
            "metadata": {
                "azdata_cell_guid": "8bfc2d26-c435-4e68-ae0b-31b431666950",
                "tags": []
            },
            "outputs": [
                {
                    "output_type": "error",
                    "evalue": "Msg 2714, Level 16, State 6, Line 1\nThere is already an object named 'Aluno' in the database.",
                    "ename": "",
                    "traceback": []
                },
                {
                    "output_type": "display_data",
                    "data": {
                        "text/html": "Total execution time: 00:00:00.001"
                    },
                    "metadata": {}
                }
            ],
            "execution_count": 7
        },
        {
            "cell_type": "code",
            "source": [
                "SELECT * FROM Aluno"
            ],
            "metadata": {
                "azdata_cell_guid": "0579e0ee-255e-42d5-bd6a-5eddcfe57122"
            },
            "outputs": [
                {
                    "output_type": "display_data",
                    "data": {
                        "text/html": "(0 rows affected)"
                    },
                    "metadata": {}
                },
                {
                    "output_type": "display_data",
                    "data": {
                        "text/html": "Total execution time: 00:00:00.002"
                    },
                    "metadata": {}
                },
                {
                    "output_type": "execute_result",
                    "metadata": {},
                    "execution_count": 9,
                    "data": {
                        "application/vnd.dataresource+json": {
                            "schema": {
                                "fields": [
                                    {
                                        "name": "CPF"
                                    },
                                    {
                                        "name": "Nome"
                                    },
                                    {
                                        "name": "Data_Nascimento"
                                    },
                                    {
                                        "name": "Altura"
                                    },
                                    {
                                        "name": "Peso"
                                    },
                                    {
                                        "name": "Telefone"
                                    },
                                    {
                                        "name": "Id_Matricula"
                                    }
                                ]
                            },
                            "data": []
                        },
                        "text/html": "<table><tr><th>CPF</th><th>Nome</th><th>Data_Nascimento</th><th>Altura</th><th>Peso</th><th>Telefone</th><th>Id_Matricula</th></tr></table>"
                    }
                }
            ],
            "execution_count": 9
        },
        {
            "cell_type": "code",
            "source": [
                "CREATE TABLE Atividade(\n",
                "    Id INTEGER NOT NULL IDENTITY(1, 1) PRIMARY KEY,\n",
                "    Nome VARCHAR(50) NOT NULL,\n",
                "    CPF_Instrutor INTEGER NOT NULL FOREIGN KEY REFERENCES Instrutor(CPF)\n",
                ")"
            ],
            "metadata": {
                "azdata_cell_guid": "014885e2-5fe1-417e-8464-db824c71156a"
            },
            "outputs": [
                {
                    "output_type": "display_data",
                    "data": {
                        "text/html": "Commands completed successfully."
                    },
                    "metadata": {}
                },
                {
                    "output_type": "display_data",
                    "data": {
                        "text/html": "Total execution time: 00:00:00.004"
                    },
                    "metadata": {}
                }
            ],
            "execution_count": 10
        },
        {
            "cell_type": "code",
            "source": [
                "SELECT * FROM Atividade"
            ],
            "metadata": {
                "azdata_cell_guid": "f421dca8-a32a-442f-b5f4-c5a0b712667b"
            },
            "outputs": [
                {
                    "output_type": "display_data",
                    "data": {
                        "text/html": "(0 rows affected)"
                    },
                    "metadata": {}
                },
                {
                    "output_type": "display_data",
                    "data": {
                        "text/html": "Total execution time: 00:00:00.002"
                    },
                    "metadata": {}
                },
                {
                    "output_type": "execute_result",
                    "metadata": {},
                    "execution_count": 11,
                    "data": {
                        "application/vnd.dataresource+json": {
                            "schema": {
                                "fields": [
                                    {
                                        "name": "Id"
                                    },
                                    {
                                        "name": "Nome"
                                    },
                                    {
                                        "name": "CPF_Instrutor"
                                    }
                                ]
                            },
                            "data": []
                        },
                        "text/html": "<table><tr><th>Id</th><th>Nome</th><th>CPF_Instrutor</th></tr></table>"
                    }
                }
            ],
            "execution_count": 11
        },
        {
            "cell_type": "code",
            "source": [
                "CREATE TABLE Turma(\n",
                "    Id INTEGER NOT NULL IDENTITY(1,1) PRIMARY KEY,\n",
                "    Horario_Aula INTEGER NOT NULL,\n",
                "    Id_Atividade INTEGER NOT NULL FOREIGN KEY REFERENCES Atividade(Id)\n",
                ")"
            ],
            "metadata": {
                "azdata_cell_guid": "3fead4b2-6373-47f5-9bfd-db054d31632e"
            },
            "outputs": [
                {
                    "output_type": "error",
                    "evalue": "Msg 2714, Level 16, State 6, Line 1\nThere is already an object named 'Turma' in the database.",
                    "ename": "",
                    "traceback": []
                },
                {
                    "output_type": "display_data",
                    "data": {
                        "text/html": "Total execution time: 00:00:00.001"
                    },
                    "metadata": {}
                }
            ],
            "execution_count": 75
        },
        {
            "cell_type": "code",
            "source": [
                "SELECT * FROM Turma"
            ],
            "metadata": {
                "azdata_cell_guid": "c3cd31cf-e192-4f45-9f71-0156f3999f14"
            },
            "outputs": [
                {
                    "output_type": "display_data",
                    "data": {
                        "text/html": "(0 rows affected)"
                    },
                    "metadata": {}
                },
                {
                    "output_type": "display_data",
                    "data": {
                        "text/html": "Total execution time: 00:00:00.002"
                    },
                    "metadata": {}
                },
                {
                    "output_type": "execute_result",
                    "metadata": {},
                    "execution_count": 74,
                    "data": {
                        "application/vnd.dataresource+json": {
                            "schema": {
                                "fields": [
                                    {
                                        "name": "Id"
                                    },
                                    {
                                        "name": "Horario_Aula"
                                    },
                                    {
                                        "name": "Id_Atividade"
                                    }
                                ]
                            },
                            "data": []
                        },
                        "text/html": "<table><tr><th>Id</th><th>Horario_Aula</th><th>Id_Atividade</th></tr></table>"
                    }
                }
            ],
            "execution_count": 74
        }
    ]
}