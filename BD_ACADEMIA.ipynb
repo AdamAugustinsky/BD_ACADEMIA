{
    "metadata": {
        "kernelspec": {
            "name": "SQL",
            "display_name": "SQL",
            "language": "sql"
        },
        "language_info": {
            "name": "sql",
            "version": ""
        }
    },
    "nbformat_minor": 2,
    "nbformat": 4,
    "cells": [
        {
            "cell_type": "code",
            "source": [
                "CREATE DATABASE BD_ACADEMIA"
            ],
            "metadata": {
                "azdata_cell_guid": "2f4f2762-8e16-47bc-8c33-a033c44877cf",
                "tags": []
            },
            "outputs": [
                {
                    "output_type": "display_data",
                    "data": {
                        "text/html": "Commands completed successfully."
                    },
                    "metadata": {}
                },
                {
                    "output_type": "display_data",
                    "data": {
                        "text/html": "Total execution time: 00:00:00.049"
                    },
                    "metadata": {}
                }
            ],
            "execution_count": 2
        },
        {
            "cell_type": "code",
            "source": [
                "USE BD_ACADEMIA "
            ],
            "metadata": {
                "azdata_cell_guid": "541da7be-ae70-48f5-94b4-44677b0d186d",
                "tags": []
            },
            "outputs": [
                {
                    "output_type": "display_data",
                    "data": {
                        "text/html": "Commands completed successfully."
                    },
                    "metadata": {}
                },
                {
                    "output_type": "display_data",
                    "data": {
                        "text/html": "Total execution time: 00:00:00.320"
                    },
                    "metadata": {}
                }
            ],
            "execution_count": 4
        },
        {
            "cell_type": "code",
            "source": [
                "USE BD_ACADEMIA "
            ],
            "metadata": {
                "azdata_cell_guid": "541da7be-ae70-48f5-94b4-44677b0d186d",
                "tags": []
            },
            "outputs": [
                {
                    "output_type": "display_data",
                    "data": {
                        "text/html": "Commands completed successfully."
                    },
                    "metadata": {}
                },
                {
                    "output_type": "display_data",
                    "data": {
                        "text/html": "Total execution time: 00:00:00"
                    },
                    "metadata": {}
                }
            ],
            "execution_count": 6
        },
        {
            "cell_type": "code",
            "source": [
                "CREATE TABLE Instrutor(\n",
                "    Id INTEGER IDENTITY(1,1) PRIMARY KEY,\n",
                "    CPF VARCHAR(11) NOT NULL UNIQUE,\n",
                "    Nome VARCHAR(50) NOT NULL,\n",
                "    Data_Nascimento DATE NOT NULL,\n",
                "    Telefone VARCHAR(17)\n",
                ")"
            ],
            "metadata": {
                "azdata_cell_guid": "70431305-edd0-47ef-9016-63e2a6d53ace",
                "tags": []
            },
            "outputs": [
                {
                    "output_type": "display_data",
                    "data": {
                        "text/html": "Commands completed successfully."
                    },
                    "metadata": {}
                },
                {
                    "output_type": "display_data",
                    "data": {
                        "text/html": "Total execution time: 00:00:00.006"
                    },
                    "metadata": {}
                }
            ],
            "execution_count": 7
        },
        {
            "cell_type": "code",
            "source": [
                "INSERT INTO Instrutor(CPF, Nome, Data_Nascimento)\r\n",
                "VALUES ('11111111111', 'Cruz', '1990-06-21')  "
            ],
            "metadata": {
                "azdata_cell_guid": "a7ac0af5-932e-402c-9c19-09eff2d0667c"
            },
            "outputs": [
                {
                    "output_type": "display_data",
                    "data": {
                        "text/html": "(1 row affected)"
                    },
                    "metadata": {}
                },
                {
                    "output_type": "display_data",
                    "data": {
                        "text/html": "Total execution time: 00:00:00.003"
                    },
                    "metadata": {}
                }
            ],
            "execution_count": 8
        },
        {
            "cell_type": "code",
            "source": [
                "SELECT * FROM Instrutor"
            ],
            "metadata": {
                "azdata_cell_guid": "998fc25e-bc20-477f-b427-f51d6b2be97e",
                "tags": []
            },
            "outputs": [
                {
                    "output_type": "display_data",
                    "data": {
                        "text/html": "(1 row affected)"
                    },
                    "metadata": {}
                },
                {
                    "output_type": "display_data",
                    "data": {
                        "text/html": "Total execution time: 00:00:00.062"
                    },
                    "metadata": {}
                },
                {
                    "output_type": "execute_result",
                    "execution_count": 9,
                    "data": {
                        "application/vnd.dataresource+json": {
                            "schema": {
                                "fields": [
                                    {
                                        "name": "Id"
                                    },
                                    {
                                        "name": "CPF"
                                    },
                                    {
                                        "name": "Nome"
                                    },
                                    {
                                        "name": "Data_Nascimento"
                                    },
                                    {
                                        "name": "Telefone"
                                    }
                                ]
                            },
                            "data": [
                                {
                                    "0": "1",
                                    "1": "99999999999",
                                    "2": "Marcos",
                                    "3": "1970-02-15",
                                    "4": "NULL"
                                }
                            ]
                        },
                        "text/html": "<table><tr><th>Id</th><th>CPF</th><th>Nome</th><th>Data_Nascimento</th><th>Telefone</th></tr><tr><td>1</td><td>99999999999</td><td>Marcos</td><td>1970-02-15</td><td>NULL</td></tr></table>"
                    },
                    "metadata": {}
                }
            ],
            "execution_count": 9
        },
        {
            "cell_type": "code",
            "source": [
                "CREATE TABLE Matricula(\n",
                "    Id INTEGER  NOT NULL IDENTITY(1,1) PRIMARY KEY,\n",
                "    Data_Matricula  DATE NOT NULL,\n",
                "    Data_Vencimento DATE,\n",
                "    Id_Instrutor INTEGER NOT NULL FOREIGN KEY REFERENCES Instrutor(Id)\n",
                ")"
            ],
            "metadata": {
                "azdata_cell_guid": "e78d5d83-7fcd-4bf3-ae65-0d47dd2cd87f",
                "tags": []
            },
            "outputs": [
                {
                    "output_type": "display_data",
                    "data": {
                        "text/html": "Commands completed successfully."
                    },
                    "metadata": {}
                },
                {
                    "output_type": "display_data",
                    "data": {
                        "text/html": "Total execution time: 00:00:00.002"
                    },
                    "metadata": {}
                }
            ],
            "execution_count": 10
        },
        {
            "cell_type": "code",
            "source": [
                "SELECT * FROM Matricula"
            ],
            "metadata": {
                "azdata_cell_guid": "957f1d11-da00-4794-999e-9a648d3394fe",
                "tags": []
            },
            "outputs": [
                {
                    "output_type": "display_data",
                    "data": {
                        "text/html": "(0 rows affected)"
                    },
                    "metadata": {}
                },
                {
                    "output_type": "display_data",
                    "data": {
                        "text/html": "Total execution time: 00:00:00.002"
                    },
                    "metadata": {}
                },
                {
                    "output_type": "execute_result",
                    "execution_count": 11,
                    "data": {
                        "application/vnd.dataresource+json": {
                            "schema": {
                                "fields": [
                                    {
                                        "name": "Id"
                                    },
                                    {
                                        "name": "Data_Matricula"
                                    },
                                    {
                                        "name": "Data_Vencimento"
                                    },
                                    {
                                        "name": "Id_Instrutor"
                                    }
                                ]
                            },
                            "data": []
                        },
                        "text/html": "<table><tr><th>Id</th><th>Data_Matricula</th><th>Data_Vencimento</th><th>Id_Instrutor</th></tr></table>"
                    },
                    "metadata": {}
                }
            ],
            "execution_count": 11
        },
        {
            "cell_type": "code",
            "source": [
                "CREATE TABLE Aluno(\n",
                "    Id INTEGER IDENTITY(1,1) PRIMARY KEY FOREIGN KEY REFERENCES Matricula(Id),\n",
                "    CPF VARCHAR(11) NOT NULL UNIQUE,\n",
                "    Nome VARCHAR(50) NOT NULL,\n",
                "    Data_Nascimento DATE NOT NULL,\n",
                "    Altura FLOAT,\n",
                "    Peso INTEGER,\n",
                "    Telefone VARCHAR(20),\n",
                ")"
            ],
            "metadata": {
                "azdata_cell_guid": "8bfc2d26-c435-4e68-ae0b-31b431666950",
                "tags": []
            },
            "outputs": [
                {
                    "output_type": "display_data",
                    "data": {
                        "text/html": "Commands completed successfully."
                    },
                    "metadata": {}
                },
                {
                    "output_type": "display_data",
                    "data": {
                        "text/html": "Total execution time: 00:00:00.003"
                    },
                    "metadata": {}
                }
            ],
            "execution_count": 12
        },
        {
            "cell_type": "code",
            "source": [
                "SELECT * FROM Aluno"
            ],
            "metadata": {
                "azdata_cell_guid": "0579e0ee-255e-42d5-bd6a-5eddcfe57122"
            },
            "outputs": [
                {
                    "output_type": "display_data",
                    "data": {
                        "text/html": "(0 rows affected)"
                    },
                    "metadata": {}
                },
                {
                    "output_type": "display_data",
                    "data": {
                        "text/html": "Total execution time: 00:00:00.002"
                    },
                    "metadata": {}
                },
                {
                    "output_type": "execute_result",
                    "execution_count": 13,
                    "data": {
                        "application/vnd.dataresource+json": {
                            "schema": {
                                "fields": [
                                    {
                                        "name": "Id"
                                    },
                                    {
                                        "name": "CPF"
                                    },
                                    {
                                        "name": "Nome"
                                    },
                                    {
                                        "name": "Data_Nascimento"
                                    },
                                    {
                                        "name": "Altura"
                                    },
                                    {
                                        "name": "Peso"
                                    },
                                    {
                                        "name": "Telefone"
                                    }
                                ]
                            },
                            "data": []
                        },
                        "text/html": "<table><tr><th>Id</th><th>CPF</th><th>Nome</th><th>Data_Nascimento</th><th>Altura</th><th>Peso</th><th>Telefone</th></tr></table>"
                    },
                    "metadata": {}
                }
            ],
            "execution_count": 13
        },
        {
            "cell_type": "code",
            "source": [
                "CREATE TABLE Atividade(\n",
                "    Id INTEGER NOT NULL IDENTITY(1, 1) PRIMARY KEY,\n",
                "    Nome VARCHAR(50) NOT NULL,\n",
                "    Id_Instrutor INTEGER NOT NULL FOREIGN KEY REFERENCES Instrutor(Id)\n",
                ")\n",
                ""
            ],
            "metadata": {
                "azdata_cell_guid": "014885e2-5fe1-417e-8464-db824c71156a"
            },
            "outputs": [
                {
                    "output_type": "display_data",
                    "data": {
                        "text/html": "Commands completed successfully."
                    },
                    "metadata": {}
                },
                {
                    "output_type": "display_data",
                    "data": {
                        "text/html": "Total execution time: 00:00:00.003"
                    },
                    "metadata": {}
                }
            ],
            "execution_count": 14
        },
        {
            "cell_type": "code",
            "source": [
                "SELECT * FROM Atividade"
            ],
            "metadata": {
                "azdata_cell_guid": "f421dca8-a32a-442f-b5f4-c5a0b712667b"
            },
            "outputs": [
                {
                    "output_type": "display_data",
                    "data": {
                        "text/html": "(0 rows affected)"
                    },
                    "metadata": {}
                },
                {
                    "output_type": "display_data",
                    "data": {
                        "text/html": "Total execution time: 00:00:00.001"
                    },
                    "metadata": {}
                },
                {
                    "output_type": "execute_result",
                    "execution_count": 15,
                    "data": {
                        "application/vnd.dataresource+json": {
                            "schema": {
                                "fields": [
                                    {
                                        "name": "Id"
                                    },
                                    {
                                        "name": "Nome"
                                    },
                                    {
                                        "name": "Id_Instrutor"
                                    }
                                ]
                            },
                            "data": []
                        },
                        "text/html": "<table><tr><th>Id</th><th>Nome</th><th>Id_Instrutor</th></tr></table>"
                    },
                    "metadata": {}
                }
            ],
            "execution_count": 15
        },
        {
            "cell_type": "code",
            "source": [
                "CREATE TABLE Turma(\n",
                "    Id INTEGER NOT NULL IDENTITY(1,1) PRIMARY KEY,\n",
                "    Horario_Aula INTEGER NOT NULL,\n",
                "    Id_Atividade INTEGER NOT NULL FOREIGN KEY REFERENCES Atividade(Id)\n",
                ")"
            ],
            "metadata": {
                "azdata_cell_guid": "3fead4b2-6373-47f5-9bfd-db054d31632e"
            },
            "outputs": [
                {
                    "output_type": "display_data",
                    "data": {
                        "text/html": "Commands completed successfully."
                    },
                    "metadata": {}
                },
                {
                    "output_type": "display_data",
                    "data": {
                        "text/html": "Total execution time: 00:00:00.002"
                    },
                    "metadata": {}
                }
            ],
            "execution_count": 16
        },
        {
            "cell_type": "code",
            "source": [
                "SELECT * FROM Turma"
            ],
            "metadata": {
                "azdata_cell_guid": "c3cd31cf-e192-4f45-9f71-0156f3999f14"
            },
            "outputs": [
                {
                    "output_type": "display_data",
                    "data": {
                        "text/html": "(0 rows affected)"
                    },
                    "metadata": {}
                },
                {
                    "output_type": "display_data",
                    "data": {
                        "text/html": "Total execution time: 00:00:00.001"
                    },
                    "metadata": {}
                },
                {
                    "output_type": "execute_result",
                    "execution_count": 17,
                    "data": {
                        "application/vnd.dataresource+json": {
                            "schema": {
                                "fields": [
                                    {
                                        "name": "Id"
                                    },
                                    {
                                        "name": "Horario_Aula"
                                    },
                                    {
                                        "name": "Id_Atividade"
                                    }
                                ]
                            },
                            "data": []
                        },
                        "text/html": "<table><tr><th>Id</th><th>Horario_Aula</th><th>Id_Atividade</th></tr></table>"
                    },
                    "metadata": {}
                }
            ],
            "execution_count": 17
        },
        {
            "cell_type": "code",
            "source": [
                "CREATE TABLE Aluno_Turma(\n",
                "    Id INTEGER NOT NULL IDENTITY(1,1) PRIMARY KEY,\n",
                "    Id_Turma INTEGER NOT NULL FOREIGN KEY REFERENCES Turma(Id),\n",
                "    Id_Aluno INTEGER NOT NULL FOREIGN KEY REFERENCES Aluno(Id)\n",
                ")"
            ],
            "metadata": {
                "azdata_cell_guid": "c9537cf0-7509-48b9-8ff3-bd707880469a"
            },
            "outputs": [
                {
                    "output_type": "display_data",
                    "data": {
                        "text/html": "Commands completed successfully."
                    },
                    "metadata": {}
                },
                {
                    "output_type": "display_data",
                    "data": {
                        "text/html": "Total execution time: 00:00:00.004"
                    },
                    "metadata": {}
                }
            ],
            "execution_count": 18
        },
        {
            "cell_type": "code",
            "source": [
                "SELECT * FROM Aluno_Turma"
            ],
            "metadata": {
                "azdata_cell_guid": "ef09066c-f9e2-46b6-9b61-bd131a510a31"
            },
            "outputs": [
                {
                    "output_type": "display_data",
                    "data": {
                        "text/html": "(0 rows affected)"
                    },
                    "metadata": {}
                },
                {
                    "output_type": "display_data",
                    "data": {
                        "text/html": "Total execution time: 00:00:00.001"
                    },
                    "metadata": {}
                },
                {
                    "output_type": "execute_result",
                    "execution_count": 19,
                    "data": {
                        "application/vnd.dataresource+json": {
                            "schema": {
                                "fields": [
                                    {
                                        "name": "Id"
                                    },
                                    {
                                        "name": "Id_Turma"
                                    },
                                    {
                                        "name": "Id_Aluno"
                                    }
                                ]
                            },
                            "data": []
                        },
                        "text/html": "<table><tr><th>Id</th><th>Id_Turma</th><th>Id_Aluno</th></tr></table>"
                    },
                    "metadata": {}
                }
            ],
            "execution_count": 19
        },
        {
            "cell_type": "code",
            "source": [
                "CREATE TABLE Ausencia(\n",
                "    Id INTEGER NOT NULL IDENTITY(1,1) PRIMARY KEY,\n",
                "    Data_Ausencia DATE NOT NULL,\n",
                "    Id_AlunoTurma INTEGER NOT NULL FOREIGN KEY REFERENCES Aluno_Turma(Id)\n",
                ")"
            ],
            "metadata": {
                "azdata_cell_guid": "7d54075f-67d8-49c9-b0ee-6b6c3337d843",
                "tags": []
            },
            "outputs": [
                {
                    "output_type": "display_data",
                    "data": {
                        "text/html": "Commands completed successfully."
                    },
                    "metadata": {}
                },
                {
                    "output_type": "display_data",
                    "data": {
                        "text/html": "Total execution time: 00:00:00.003"
                    },
                    "metadata": {}
                }
            ],
            "execution_count": 20
        },
        {
            "cell_type": "code",
            "source": [
                "SELECT * FROM Ausencia"
            ],
            "metadata": {
                "azdata_cell_guid": "cda25fc3-8cc0-4f40-b5b8-c389a3717be1"
            },
            "outputs": [
                {
                    "output_type": "display_data",
                    "data": {
                        "text/html": "(0 rows affected)"
                    },
                    "metadata": {}
                },
                {
                    "output_type": "display_data",
                    "data": {
                        "text/html": "Total execution time: 00:00:00.002"
                    },
                    "metadata": {}
                },
                {
                    "output_type": "execute_result",
                    "execution_count": 21,
                    "data": {
                        "application/vnd.dataresource+json": {
                            "schema": {
                                "fields": [
                                    {
                                        "name": "Id"
                                    },
                                    {
                                        "name": "Data_Ausencia"
                                    },
                                    {
                                        "name": "Id_AlunoTurma"
                                    }
                                ]
                            },
                            "data": []
                        },
                        "text/html": "<table><tr><th>Id</th><th>Data_Ausencia</th><th>Id_AlunoTurma</th></tr></table>"
                    },
                    "metadata": {}
                }
            ],
            "execution_count": 21
        },
        {
            "cell_type": "code",
            "source": [
                "CREATE TABLE Pagamento(\n",
                "    Id INTEGER NOT NULL IDENTITY(1,1) PRIMARY KEY,\n",
                "    Data_Pagamento DATE NOT NULL,\n",
                "    Forma_Pagamento VARCHAR(20),\n",
                "    Valor_Pagamento MONEY NOT NULL,\n",
                "    Id_Matricula INTEGER NOT NULL FOREIGN KEY REFERENCES Matricula(Id)\n",
                ")"
            ],
            "metadata": {
                "azdata_cell_guid": "a032b795-4cca-445a-a405-09d571e74094"
            },
            "outputs": [
                {
                    "output_type": "display_data",
                    "data": {
                        "text/html": "Commands completed successfully."
                    },
                    "metadata": {}
                },
                {
                    "output_type": "display_data",
                    "data": {
                        "text/html": "Total execution time: 00:00:00.002"
                    },
                    "metadata": {}
                }
            ],
            "execution_count": 22
        },
        {
            "cell_type": "code",
            "source": [
                "SELECT * FROM Pagamento"
            ],
            "metadata": {
                "azdata_cell_guid": "d2ab7a57-b7c8-4c22-b130-54b227f26848"
            },
            "outputs": [
                {
                    "output_type": "display_data",
                    "data": {
                        "text/html": "(0 rows affected)"
                    },
                    "metadata": {}
                },
                {
                    "output_type": "display_data",
                    "data": {
                        "text/html": "Total execution time: 00:00:00.003"
                    },
                    "metadata": {}
                },
                {
                    "output_type": "execute_result",
                    "execution_count": 23,
                    "data": {
                        "application/vnd.dataresource+json": {
                            "schema": {
                                "fields": [
                                    {
                                        "name": "Id"
                                    },
                                    {
                                        "name": "Data_Pagamento"
                                    },
                                    {
                                        "name": "Forma_Pagamento"
                                    },
                                    {
                                        "name": "Valor_Pagamento"
                                    },
                                    {
                                        "name": "Id_Matricula"
                                    }
                                ]
                            },
                            "data": []
                        },
                        "text/html": "<table><tr><th>Id</th><th>Data_Pagamento</th><th>Forma_Pagamento</th><th>Valor_Pagamento</th><th>Id_Matricula</th></tr></table>"
                    },
                    "metadata": {}
                }
            ],
            "execution_count": 23
        }
    ]
}